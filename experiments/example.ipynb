{
 "cells": [
  {
   "cell_type": "code",
   "execution_count": null,
   "metadata": {},
   "outputs": [],
   "source": [
    "import os,sys\n",
    "os.environ[\"CUDA_VISIBLE_DEVICES\"]=\"1\"\n",
    "sys.path.append('..')\n",
    "sys.path.append('.')\n",
    "if not os.path.exists('VGDFR'):\n",
    "    os.chdir('../')\n",
    "# print current work dir\n",
    "print(os.getcwd())\n",
    "%load_ext autoreload\n",
    "%autoreload 2"
   ]
  },
  {
   "cell_type": "code",
   "execution_count": null,
   "metadata": {},
   "outputs": [],
   "source": [
    "import os\n",
    "import torch\n",
    "from hyvideo.utils.file_utils import save_videos_grid\n",
    "from pathlib import Path\n",
    "from datetime import datetime\n",
    "import time\n",
    "from hyvideo.config import *\n",
    "from VGDFR.hunyuan_vgdfr import VGDFRHunyuanVideoSampler\n"
   ]
  },
  {
   "cell_type": "code",
   "execution_count": null,
   "metadata": {},
   "outputs": [],
   "source": [
    "string_args=\"\"\"--video-size 544 960 --video-length 65 --infer-steps 50 --prompt cat. --flow-reverse --use-cpu-offload --save-path ./results --seed 3\"\"\"\n",
    "string_args=string_args.split(\" \")\n",
    "print(string_args)\n",
    "\n",
    "def parse_args_new(namespace=None,string_args=None):\n",
    "    parser = argparse.ArgumentParser(description=\"HunyuanVideo inference script\")\n",
    "\n",
    "    parser = add_network_args(parser)\n",
    "    parser = add_extra_models_args(parser)\n",
    "    parser = add_denoise_schedule_args(parser)\n",
    "    parser = add_inference_args(parser)\n",
    "    parser = add_parallel_args(parser)\n",
    "\n",
    "    args = parser.parse_args(string_args,namespace=namespace)\n",
    "    args = sanity_check_args(args)\n",
    "\n",
    "    return args\n",
    "\n",
    "args = parse_args_new(string_args=string_args)\n",
    "print(args)\n"
   ]
  },
  {
   "cell_type": "code",
   "execution_count": null,
   "metadata": {},
   "outputs": [],
   "source": [
    "models_root_path = Path(args.model_base)\n",
    "hunyuan_video_sampler = VGDFRHunyuanVideoSampler.from_pretrained(models_root_path, args=args)"
   ]
  },
  {
   "cell_type": "code",
   "execution_count": null,
   "metadata": {},
   "outputs": [
    {
     "name": "stderr",
     "output_type": "stream",
     "text": [
      "100%|██████████| 45/45 [01:45<00:00,  2.34s/it]\n"
     ]
    },
    {
     "name": "stdout",
     "output_type": "stream",
     "text": [
      "Decoding tile shape: torch.Size([1, 16, 17, 44, 64]), from 0 to 17\n",
      "Decoding tile shape: torch.Size([1, 16, 9, 44, 64]), from 12 to 29\n"
     ]
    },
    {
     "name": "stderr",
     "output_type": "stream",
     "text": [
      "\u001b[32m2025-04-20 23:40:18.255\u001b[0m | \u001b[1mINFO    \u001b[0m | \u001b[36mhyvideo.inference\u001b[0m:\u001b[36mpredict\u001b[0m:\u001b[36m669\u001b[0m - \u001b[1mSuccess, time: 148.435142993927\u001b[0m\n",
      "huggingface/tokenizers: The current process just got forked, after parallelism has already been used. Disabling parallelism to avoid deadlocks...\n",
      "To disable this warning, you can either:\n",
      "\t- Avoid using `tokenizers` before the fork if possible\n",
      "\t- Explicitly set the environment variable TOKENIZERS_PARALLELISM=(true | false)\n",
      "\u001b[32m2025-04-20 23:40:19.742\u001b[0m | \u001b[1mINFO    \u001b[0m | \u001b[36mhyvideo.inference\u001b[0m:\u001b[36mpredict\u001b[0m:\u001b[36m580\u001b[0m - \u001b[1mInput (height, width, video_length) = (344, 500, 97)\u001b[0m\n",
      "\u001b[32m2025-04-20 23:40:19.750\u001b[0m | \u001b[34m\u001b[1mDEBUG   \u001b[0m | \u001b[36mhyvideo.inference\u001b[0m:\u001b[36mpredict\u001b[0m:\u001b[36m640\u001b[0m - \u001b[34m\u001b[1m\n",
      "                        height: 352\n",
      "                         width: 512\n",
      "                  video_length: 97\n",
      "                        prompt: [\"A spirited individual rides a vintage bicycle along a sunlit, tree-lined path, wearing a casual outfit of a white t-shirt, denim shorts, and sneakers. The scene captures the golden hour, with sunlight filtering through the leaves, casting dappled shadows on the ground. The rider's hair flows freely in the breeze, and a joyful smile lights up their face. As they pedal, the camera zooms in to reveal the intricate details of the bike's design, including its classic handlebars and shiny bell. The background features a serene park with blooming flowers and a distant lake, enhancing the sense of freedom and tranquility.\"]\n",
      "                    neg_prompt: ['Aerial view, aerial view, overexposed, low quality, deformation, a poor composition, bad hands, bad teeth, bad eyes, bad limbs, distortion']\n",
      "                          seed: 3\n",
      "                   infer_steps: 50\n",
      "         num_videos_per_prompt: 1\n",
      "                guidance_scale: 1.0\n",
      "                      n_tokens: 17600\n",
      "                    flow_shift: 7.0\n",
      "       embedded_guidance_scale: 6.0\u001b[0m\n"
     ]
    },
    {
     "name": "stdout",
     "output_type": "stream",
     "text": [
      "Run VGDFR Compression Module...\n",
      "Decoding tile shape: torch.Size([1, 16, 17, 44, 64]), from 0 to 17\n",
      "Decoding tile shape: torch.Size([1, 16, 13, 44, 64]), from 12 to 29\n",
      "Decoding tile shape: torch.Size([1, 16, 1, 44, 64]), from 24 to 41\n",
      "tensor(1., device='cuda:0', dtype=torch.float16) tensor(0., device='cuda:0', dtype=torch.float16)\n",
      "Using compress ratio schedule with compress_ratio=0.9 and k=5\n",
      "Now status: 0.5463917525773195 < 0.9, left_similarity_threshold: 0.5\n",
      "Now status: 0.711340206185567 < 0.9, left_similarity_threshold: 0.745\n",
      "Now status: 1.0 > 0.9, right_similarity_threshold: 0.8674999999999999\n",
      "Now status: 0.8762886597938144 < 0.9, left_similarity_threshold: 0.8062499999999999\n",
      "Now status: 0.9175257731958762 > 0.9, right_similarity_threshold: 0.8368749999999999\n",
      "Now status: 0.8762886597938144 < 0.9, left_similarity_threshold: 0.8215625\n",
      "Now status: 0.9175257731958762 > 0.9, right_similarity_threshold: 0.8292187499999999\n",
      "Now status: 0.9175257731958762 > 0.9, right_similarity_threshold: 0.8253906249999999\n",
      "Now status: 0.9175257731958762 > 0.9, right_similarity_threshold: 0.8234765625\n",
      "Now status: 0.9175257731958762 > 0.9, right_similarity_threshold: 0.82251953125\n",
      "merge plan: \n",
      "merge2x4_inds:[49, 81],\n",
      "merge4x4_inds:[]\n"
     ]
    },
    {
     "name": "stderr",
     "output_type": "stream",
     "text": [
      "  9%|▉         | 4/45 [00:10<01:49,  2.66s/it]"
     ]
    }
   ],
   "source": [
    "hunyuan_video_sampler.pipeline.schedule_mode = \"compress_ratio\"\n",
    "seed = 3\n",
    "args.infer_steps = 50\n",
    "width, height = 960, 544\n",
    "width, height = 500, 344\n",
    "video_length = 97\n",
    "prompt=\"A spirited individual rides a vintage bicycle along a sunlit, tree-lined path, wearing a casual outfit of a white t-shirt, denim shorts, and sneakers. The scene captures the golden hour, with sunlight filtering through the leaves, casting dappled shadows on the ground. The rider's hair flows freely in the breeze, and a joyful smile lights up their face. As they pedal, the camera zooms in to reveal the intricate details of the bike's design, including its classic handlebars and shiny bell. The background features a serene park with blooming flowers and a distant lake, enhancing the sense of freedom and tranquility.\"\n",
    "for before_compression_steps in [5, 10]:\n",
    "    hunyuan_video_sampler.pipeline.before_compression_steps = before_compression_steps\n",
    "    for compress_ratio in [0.5, 0.6, 0.7, 0.8, 0.9]:\n",
    "        hunyuan_video_sampler.pipeline.compress_ratio = compress_ratio\n",
    "\n",
    "        samples = hunyuan_video_sampler.predict(\n",
    "            prompt=prompt,\n",
    "            height=height,\n",
    "            width=width,\n",
    "            video_length=video_length,\n",
    "            seed=seed,\n",
    "            negative_prompt=args.neg_prompt,\n",
    "            infer_steps=args.infer_steps,\n",
    "            guidance_scale=args.cfg_scale,\n",
    "            num_videos_per_prompt=args.num_videos,\n",
    "            flow_shift=args.flow_shift,\n",
    "            batch_size=args.batch_size,\n",
    "            embedded_guidance_scale=args.embedded_cfg_scale,\n",
    "        )[\"samples\"]\n",
    "        save_path = args.save_path\n",
    "        # log_dlfr_t = hunyuan_video_sampler.pipeline.log_dlfr_t\n",
    "        # Save samples\n",
    "        if \"LOCAL_RANK\" not in os.environ or int(os.environ[\"LOCAL_RANK\"]) == 0:\n",
    "            for i, sample in enumerate(samples):\n",
    "                sample = samples[i].unsqueeze(0)\n",
    "                time_flag = datetime.fromtimestamp(time.time()).strftime(\"%Y-%m-%d-%H:%M:%S\")\n",
    "                file_name = f\"raw_seed{seed}_{prompt[:100].replace('/','')}\"\n",
    "                raw_save_path = (\n",
    "                    f\"{save_path}/example/cr_{compress_ratio}_k{before_compression_steps}/{file_name}.mp4\"\n",
    "                )\n",
    "                save_videos_grid(sample, raw_save_path, fps=12)\n",
    "                torch.save(\n",
    "                    sample,\n",
    "                    f\"{save_path}/example/cr_{compress_ratio}_k{before_compression_steps}/{file_name}.pt\",\n",
    "                )\n"
   ]
  },
  {
   "cell_type": "code",
   "execution_count": null,
   "metadata": {},
   "outputs": [],
   "source": [
    "hunyuan_video_sampler.pipeline.schedule_mode = \"similarity_threshold\"\n",
    "seed = 3\n",
    "args.infer_steps = 50\n",
    "width, height = 960, 544\n",
    "width, height = 500, 344\n",
    "video_length = 97\n",
    "prompt=\"A spirited individual rides a vintage bicycle along a sunlit, tree-lined path, wearing a casual outfit of a white t-shirt, denim shorts, and sneakers. The scene captures the golden hour, with sunlight filtering through the leaves, casting dappled shadows on the ground. The rider's hair flows freely in the breeze, and a joyful smile lights up their face. As they pedal, the camera zooms in to reveal the intricate details of the bike's design, including its classic handlebars and shiny bell. The background features a serene park with blooming flowers and a distant lake, enhancing the sense of freedom and tranquility.\"\n",
    "for before_compression_steps in [5, 10, 15]:\n",
    "    hunyuan_video_sampler.pipeline.before_compression_steps = before_compression_steps\n",
    "    for similarity_threshold in [0.6, 0.7, 0.8, 0.9]:\n",
    "        hunyuan_video_sampler.pipeline.similarity_threshold = similarity_threshold\n",
    "\n",
    "        samples = hunyuan_video_sampler.predict(\n",
    "            prompt=prompt,\n",
    "            height=height,\n",
    "            width=width,\n",
    "            video_length=video_length,\n",
    "            seed=seed,\n",
    "            negative_prompt=args.neg_prompt,\n",
    "            infer_steps=args.infer_steps,\n",
    "            guidance_scale=args.cfg_scale,\n",
    "            num_videos_per_prompt=args.num_videos,\n",
    "            flow_shift=args.flow_shift,\n",
    "            batch_size=args.batch_size,\n",
    "            embedded_guidance_scale=args.embedded_cfg_scale,\n",
    "        )[\"samples\"]\n",
    "        save_path = args.save_path\n",
    "        # log_dlfr_t = hunyuan_video_sampler.pipeline.log_dlfr_t\n",
    "        # Save samples\n",
    "        if \"LOCAL_RANK\" not in os.environ or int(os.environ[\"LOCAL_RANK\"]) == 0:\n",
    "            for i, sample in enumerate(samples):\n",
    "                sample = samples[i].unsqueeze(0)\n",
    "                time_flag = datetime.fromtimestamp(time.time()).strftime(\"%Y-%m-%d-%H:%M:%S\")\n",
    "                file_name = f\"raw_seed{seed}_{prompt[:100].replace('/','')}\"\n",
    "                raw_save_path = (\n",
    "                    f\"{save_path}/example/th_{similarity_threshold}_k{before_compression_steps}/{file_name}.mp4\"\n",
    "                )\n",
    "                save_videos_grid(sample, raw_save_path, fps=12)\n",
    "                torch.save(\n",
    "                    sample,\n",
    "                    f\"{save_path}/example/th_{similarity_threshold}_k{before_compression_steps}/{file_name}.pt\",\n",
    "                )\n"
   ]
  }
 ],
 "metadata": {
  "kernelspec": {
   "display_name": "vgdfr",
   "language": "python",
   "name": "python3"
  },
  "language_info": {
   "codemirror_mode": {
    "name": "ipython",
    "version": 3
   },
   "file_extension": ".py",
   "mimetype": "text/x-python",
   "name": "python",
   "nbconvert_exporter": "python",
   "pygments_lexer": "ipython3",
   "version": "3.10.16"
  }
 },
 "nbformat": 4,
 "nbformat_minor": 2
}
