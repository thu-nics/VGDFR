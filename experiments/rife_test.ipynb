{
 "cells": [
  {
   "cell_type": "code",
   "execution_count": 1,
   "id": "bbaea211",
   "metadata": {},
   "outputs": [
    {
     "name": "stdout",
     "output_type": "stream",
     "text": [
      "/mnt/public/yuanzhihang/docs/VGDFR\n"
     ]
    }
   ],
   "source": [
    "import os,sys\n",
    "os.environ[\"CUDA_VISIBLE_DEVICES\"]=\"1\"\n",
    "sys.path.append('..')\n",
    "sys.path.append('.')\n",
    "if not os.path.exists('VGDFR'):\n",
    "    os.chdir('../')\n",
    "# print current work dir\n",
    "print(os.getcwd())\n",
    "%load_ext autoreload\n",
    "%autoreload 2"
   ]
  },
  {
   "cell_type": "code",
   "execution_count": 2,
   "id": "9bf9878f",
   "metadata": {},
   "outputs": [],
   "source": [
    "\n",
    "import torch\n",
    "from torch.nn import functional as F\n",
    "import cv2"
   ]
  },
  {
   "cell_type": "code",
   "execution_count": 3,
   "id": "94a596e3",
   "metadata": {},
   "outputs": [],
   "source": [
    "from VGDFR.RIFE_model import Model"
   ]
  },
  {
   "cell_type": "code",
   "execution_count": null,
   "id": "788c1885",
   "metadata": {},
   "outputs": [],
   "source": [
    "model = Model()\n",
    "model.load_model(\"data\", -1)\n"
   ]
  },
  {
   "cell_type": "code",
   "execution_count": 5,
   "id": "e8d66b90",
   "metadata": {},
   "outputs": [],
   "source": [
    "model.eval()\n",
    "model.device()"
   ]
  },
  {
   "cell_type": "code",
   "execution_count": 6,
   "id": "c1eda484",
   "metadata": {},
   "outputs": [],
   "source": [
    "img0 = cv2.imread(\"/mnt/public/yuanzhihang/docs/VGDFR/Practical-RIFE/demo/I0_0.png\")\n",
    "img1 = cv2.imread(\"/mnt/public/yuanzhihang/docs/VGDFR/Practical-RIFE/demo/I0_1.png\", cv2.IMREAD_UNCHANGED)"
   ]
  },
  {
   "cell_type": "code",
   "execution_count": 7,
   "id": "7ef4ef76",
   "metadata": {},
   "outputs": [
    {
     "name": "stdout",
     "output_type": "stream",
     "text": [
      "tensor(0., device='cuda:0') tensor(1., device='cuda:0')\n"
     ]
    }
   ],
   "source": [
    "device=torch.device(\"cuda\")\n",
    "img0 = (torch.tensor(img0.transpose(2, 0, 1)).to(device) / 255.).unsqueeze(0) # [0,1]\n",
    "img1 = (torch.tensor(img1.transpose(2, 0, 1)).to(device) / 255.).unsqueeze(0)\n",
    "print(img0.min(), img0.max())"
   ]
  },
  {
   "cell_type": "code",
   "execution_count": 8,
   "id": "608cc974",
   "metadata": {},
   "outputs": [],
   "source": [
    "n, c, h, w = img0.shape\n",
    "ph = ((h - 1) // 64 + 1) * 64\n",
    "pw = ((w - 1) // 64 + 1) * 64\n",
    "padding = (0, pw - w, 0, ph - h)\n",
    "img0 = F.pad(img0, padding)\n",
    "img1 = F.pad(img1, padding)"
   ]
  },
  {
   "cell_type": "code",
   "execution_count": 9,
   "id": "ee33fda5",
   "metadata": {},
   "outputs": [
    {
     "name": "stdout",
     "output_type": "stream",
     "text": [
      "0.125\n",
      "0.25\n",
      "0.375\n",
      "0.5\n",
      "0.625\n",
      "0.75\n",
      "0.875\n"
     ]
    }
   ],
   "source": [
    "img_list = [img0]        \n",
    "n = 8\n",
    "for i in range(n-1):\n",
    "    print((i+1) * 1. / n)\n",
    "    img_list.append(model.inference(img0, img1, (i+1) * 1. / n))\n",
    "img_list.append(img1)\n"
   ]
  },
  {
   "cell_type": "markdown",
   "id": "9999d592",
   "metadata": {},
   "source": []
  },
  {
   "cell_type": "code",
   "execution_count": 10,
   "id": "97e54865",
   "metadata": {},
   "outputs": [],
   "source": [
    "if not os.path.exists('output'):\n",
    "    os.mkdir('output')\n",
    "for i in range(len(img_list)):\n",
    "    cv2.imwrite('output/img{}.png'.format(i), (img_list[i][0] * 255).byte().cpu().numpy().transpose(1, 2, 0)[:h, :w])\n"
   ]
  },
  {
   "cell_type": "code",
   "execution_count": null,
   "id": "558523a7",
   "metadata": {},
   "outputs": [],
   "source": []
  }
 ],
 "metadata": {
  "kernelspec": {
   "display_name": "vgdfr",
   "language": "python",
   "name": "python3"
  },
  "language_info": {
   "codemirror_mode": {
    "name": "ipython",
    "version": 3
   },
   "file_extension": ".py",
   "mimetype": "text/x-python",
   "name": "python",
   "nbconvert_exporter": "python",
   "pygments_lexer": "ipython3",
   "version": "3.10.16"
  }
 },
 "nbformat": 4,
 "nbformat_minor": 5
}
