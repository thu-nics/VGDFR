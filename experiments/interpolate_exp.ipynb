{
 "cells": [
  {
   "cell_type": "code",
   "execution_count": null,
   "metadata": {},
   "outputs": [],
   "source": [
    "import os,sys\n",
    "os.environ[\"CUDA_VISIBLE_DEVICES\"]=\"1\"\n",
    "sys.path.append('..')\n",
    "sys.path.append('.')\n",
    "if not os.path.exists('hyvideo'):\n",
    "    os.chdir('../')\n",
    "# print current work dir\n",
    "print(os.getcwd())\n",
    "%load_ext autoreload\n",
    "%autoreload 2"
   ]
  },
  {
   "cell_type": "code",
   "execution_count": null,
   "metadata": {},
   "outputs": [],
   "source": [
    "import os\n",
    "import torch\n",
    "from torch.utils.data import DataLoader\n",
    "from loguru import logger\n",
    "import matplotlib.pyplot as plt\n",
    "from hyvideo.vae.autoencoder_kl_causal_3d import AutoencoderKLCausal3D\n",
    "from hyvideo.vae import load_vae\n",
    "from hyvideo.utils.file_utils import save_videos_grid\n",
    "from hyvideo.inference import HunyuanVideoSampler\n",
    "from pathlib import Path\n",
    "from datetime import datetime\n",
    "import time\n",
    "from hyvideo.config import *\n",
    "from VGDFR.hunyuan_vgdfr import DyLatentMergeModRoPEGenSampler,mod_rope_forward\n"
   ]
  },
  {
   "cell_type": "code",
   "execution_count": null,
   "metadata": {},
   "outputs": [],
   "source": [
    "string_args=\"\"\"--video-size 544 960 --video-length 65 --infer-steps 50 --prompt cat. --flow-reverse --use-cpu-offload --save-path ./results --seed 3\"\"\"\n",
    "string_args=string_args.split(\" \")\n",
    "print(string_args)\n",
    "\n",
    "def parse_args_new(namespace=None,string_args=None):\n",
    "    parser = argparse.ArgumentParser(description=\"HunyuanVideo inference script\")\n",
    "\n",
    "    parser = add_network_args(parser)\n",
    "    parser = add_extra_models_args(parser)\n",
    "    parser = add_denoise_schedule_args(parser)\n",
    "    parser = add_inference_args(parser)\n",
    "    parser = add_parallel_args(parser)\n",
    "\n",
    "    args = parser.parse_args(string_args,namespace=namespace)\n",
    "    args = sanity_check_args(args)\n",
    "\n",
    "    return args\n",
    "\n",
    "args = parse_args_new(string_args=string_args)\n",
    "print(args)\n"
   ]
  },
  {
   "cell_type": "code",
   "execution_count": null,
   "metadata": {},
   "outputs": [],
   "source": [
    "models_root_path = Path(args.model_base)\n",
    "hunyuan_video_sampler = DyLatentMergeModRoPEGenSampler.from_pretrained(models_root_path, args=args)"
   ]
  },
  {
   "cell_type": "code",
   "execution_count": null,
   "metadata": {},
   "outputs": [],
   "source": [
    "prompt_path=\"VBench/prompts/augmented_prompts/gpt_enhanced_prompts/prompts_per_dimension_longer\"\n",
    "all_prompts=[]\n",
    "for file in os.listdir(prompt_path):\n",
    "    with open(os.path.join(prompt_path,file)) as f:\n",
    "        all_prompts.extend(f.readlines()[:2])\n",
    "print(all_prompts)\n",
    "print(len(all_prompts))\n",
    "with open(\"eval2/prompts.txt\",\"w\") as f:\n",
    "    f.writelines(all_prompts)\n"
   ]
  },
  {
   "cell_type": "code",
   "execution_count": null,
   "metadata": {},
   "outputs": [],
   "source": [
    "# 540p raw\n",
    "seed=3\n",
    "args.infer_steps=50\n",
    "width,height=960,544\n",
    "video_length=97\n",
    "for prompt in all_prompts:\n",
    "    denoise_args_tuple,generator = hunyuan_video_sampler.prepare_denoise_data(\n",
    "        prompt=prompt, \n",
    "        height=height,\n",
    "        width=width,\n",
    "        video_length=video_length,\n",
    "        seed=seed,\n",
    "        negative_prompt=args.neg_prompt,\n",
    "        infer_steps=args.infer_steps,\n",
    "        guidance_scale=args.cfg_scale,\n",
    "        num_videos_per_prompt=args.num_videos,\n",
    "        flow_shift=args.flow_shift,\n",
    "        batch_size=args.batch_size,\n",
    "        embedded_guidance_scale=args.embedded_cfg_scale\n",
    "    )\n",
    "    latents=hunyuan_video_sampler.pipeline.forward_with_latent_merge(*denoise_args_tuple,merge_t=-1,sim_threshold=0.5)\n",
    "    samples=hunyuan_video_sampler.pipeline.latent_to_pixel(latents,generator)\n",
    "    save_path = args.save_path\n",
    "    # Save samples\n",
    "    if 'LOCAL_RANK' not in os.environ or int(os.environ['LOCAL_RANK']) == 0:\n",
    "        for i, sample in enumerate(samples):\n",
    "            sample = samples[i].unsqueeze(0)\n",
    "            time_flag = datetime.fromtimestamp(time.time()).strftime(\"%Y-%m-%d-%H:%M:%S\")\n",
    "            file_name=f\"raw_seed{seed}_{prompt[:100].replace('/','')}\"\n",
    "            raw_save_path = f\"{save_path}/9/{file_name}.mp4\"\n",
    "            save_videos_grid(sample, raw_save_path, fps=12)\n",
    "            logger.info(f'Sample save to: {raw_save_path}')\n",
    "            torch.save(sample, f\"{save_path}/9/{file_name}.pt\")\n",
    "            logger.info(f'tensor save to: {raw_save_path}')\n",
    "            "
   ]
  },
  {
   "cell_type": "code",
   "execution_count": null,
   "metadata": {},
   "outputs": [],
   "source": [
    "from hyvideo.vae.autoencoder_kl_causal_3d import AutoencoderKLCausal3D\n",
    "from hyvideo.vae.unet_causal_3d_blocks import UpsampleCausal3D,DownsampleCausal3D,CausalConv3d\n",
    "from hyvideo.vae import load_vae\n",
    "compression_module, _, s_ratio, t_ratio = load_vae(\n",
    "    vae_type=\"884-16c-hy\",         \n",
    "    vae_precision=\"fp16\",\n",
    "    logger=logger,\n",
    "    vae_path=\"ckpts/hunyuan-video-t2v-720p/vae\",\n",
    "    device=\"cuda\",\n",
    ")\n",
    "compression_module=compression_module.eval()\n",
    "compression_module.enable_tiling()\n",
    "for name,module in compression_module.decoder.named_modules():\n",
    "    if isinstance(module,UpsampleCausal3D):\n",
    "        # if module.upsample_factor[1]>1 and \"_blocks.2\" not in name:\n",
    "        if module.upsample_factor[1]>1 and \"_blocks.0\" in name:\n",
    "            module._raw_upsample_factor=module.upsample_factor\n",
    "            module.upsample_factor=(module.upsample_factor[0],1,1)\n",
    "            print(f\"UpsampleCausal3D {name}: convert {module._raw_upsample_factor} to {module.upsample_factor}\")\n",
    "        \n",
    "for name,module in compression_module.encoder.named_modules():\n",
    "    if isinstance(module,CausalConv3d):\n",
    "        module=module.conv\n",
    "        # if module.stride[1]==2 and \"_blocks.0\" not in name:\n",
    "        if module.stride[1]==2 and \"_blocks.2\" in name:\n",
    "            module._raw_stride=module.stride\n",
    "            module.stride=(module.stride[0],1,1)\n",
    "            print(f\"Downsample Conv3d {name}: convert {module._raw_stride} to {module.stride}\")\n",
    "# print(compression_module.tile_latent_min_size)\n",
    "compression_module.tile_latent_min_size=64\n",
    "hunyuan_video_sampler.pipeline.compression_module=compression_module"
   ]
  },
  {
   "cell_type": "code",
   "execution_count": null,
   "metadata": {},
   "outputs": [
    {
     "name": "stderr",
     "output_type": "stream",
     "text": [
      "  7%|▋         | 3/46 [00:02<00:35,  1.22it/s]"
     ]
    }
   ],
   "source": [
    "seed=3\n",
    "args.infer_steps=50\n",
    "num_quick_inference_steps=5\n",
    "width,height=960,544\n",
    "width,height=500,300\n",
    "video_length=97\n",
    "\n",
    "for dlfr_sim_threshold in [0.6,0.7,0.8,0.9]:\n",
    "    for prompt in all_prompts:\n",
    "        \n",
    "        samples = hunyuan_video_sampler.predict(\n",
    "            prompt=prompt, \n",
    "            height=height,\n",
    "            width=width,\n",
    "            video_length=video_length,\n",
    "            seed=seed,\n",
    "            negative_prompt=args.neg_prompt,\n",
    "            infer_steps=args.infer_steps,\n",
    "            guidance_scale=args.cfg_scale,\n",
    "            num_videos_per_prompt=args.num_videos,\n",
    "            flow_shift=args.flow_shift,\n",
    "            batch_size=args.batch_size,\n",
    "            num_quick_inference_steps=num_quick_inference_steps,\n",
    "            dlfr_sim_threshold=dlfr_sim_threshold,\n",
    "            embedded_guidance_scale=args.embedded_cfg_scale\n",
    "        )['samples']\n",
    "        save_path = args.save_path\n",
    "        # log_dlfr_t = hunyuan_video_sampler.pipeline.log_dlfr_t\n",
    "        # Save samples\n",
    "        if 'LOCAL_RANK' not in os.environ or int(os.environ['LOCAL_RANK']) == 0:\n",
    "            for i, sample in enumerate(samples):\n",
    "                sample = samples[i].unsqueeze(0)\n",
    "                time_flag = datetime.fromtimestamp(time.time()).strftime(\"%Y-%m-%d-%H:%M:%S\")\n",
    "                file_name=f\"raw_seed{seed}_{prompt[:100].replace('/','')}\"\n",
    "                raw_save_path = f\"{save_path}/vgdfr/th_{dlfr_sim_threshold}/{file_name}.mp4\"\n",
    "                save_videos_grid(sample, raw_save_path, fps=12)\n",
    "                torch.save(sample, f\"{save_path}/vgdfr/th_{dlfr_sim_threshold}/{file_name}.pt\")\n",
    "                # with open(f\"{save_path}/vgdfr/th_{dlfr_sim_threshold}/log_dlfr_t.txt\", \"a+\") as f:\n",
    "                #     f.write(f\"{file_name}, {log_dlfr_t[0]}, {log_dlfr_t[1]}\\n\")\n",
    "            "
   ]
  },
  {
   "cell_type": "code",
   "execution_count": null,
   "metadata": {},
   "outputs": [],
   "source": [
    "if 'LOCAL_RANK' not in os.environ or int(os.environ['LOCAL_RANK']) == 0:\n",
    "            for i, sample in enumerate(samples):\n",
    "                sample = samples[i].unsqueeze(0)\n",
    "                time_flag = datetime.fromtimestamp(time.time()).strftime(\"%Y-%m-%d-%H:%M:%S\")\n",
    "                file_name=f\"raw_seed{seed}_{prompt[:100].replace('/','')}\"\n",
    "                raw_save_path = f\"{save_path}/vgdfr/th_{dlfr_sim_threshold}/{file_name}.mp4\"\n",
    "                save_videos_grid(sample, raw_save_path, fps=12)\n",
    "                torch.save(sample, f\"{save_path}/vgdfr/th_{dlfr_sim_threshold}/{file_name}.pt\")"
   ]
  }
 ],
 "metadata": {
  "kernelspec": {
   "display_name": "dlfr_vae",
   "language": "python",
   "name": "python3"
  },
  "language_info": {
   "codemirror_mode": {
    "name": "ipython",
    "version": 3
   },
   "file_extension": ".py",
   "mimetype": "text/x-python",
   "name": "python",
   "nbconvert_exporter": "python",
   "pygments_lexer": "ipython3",
   "version": "3.12.9"
  }
 },
 "nbformat": 4,
 "nbformat_minor": 2
}
